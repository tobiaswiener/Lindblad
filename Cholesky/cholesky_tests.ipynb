{
 "cells": [
  {
   "cell_type": "code",
   "execution_count": 328,
   "metadata": {
    "collapsed": true
   },
   "outputs": [],
   "source": [
    "import numpy as np\n",
    "import itertools\n",
    "import math"
   ]
  },
  {
   "cell_type": "code",
   "execution_count": null,
   "outputs": [],
   "source": [
    "N = 2"
   ],
   "metadata": {
    "collapsed": false,
    "pycharm": {
     "name": "#%%\n"
    }
   }
  },
  {
   "cell_type": "code",
   "execution_count": 175,
   "outputs": [
    {
     "data": {
      "text/plain": "(4, 2, 2)"
     },
     "execution_count": 175,
     "metadata": {},
     "output_type": "execute_result"
    }
   ],
   "source": [
    "s0 = np.matrix([[1,0],[0,1]])\n",
    "s1 = np.matrix([[0,1],[1,0]])\n",
    "s2 = np.matrix([[0,-1j],[1j,0]])\n",
    "s3 = np.matrix([[1,0],[0,-1]])\n",
    "s = np.array((s0,s1,s2,s3))\n",
    "s.shape"
   ],
   "metadata": {
    "collapsed": false,
    "pycharm": {
     "name": "#%%\n"
    }
   }
  },
  {
   "cell_type": "code",
   "execution_count": 324,
   "outputs": [],
   "source": [
    "def random_herm(dim=2):\n",
    "    m = np.random.rand(dim,dim) + 1j*np.random.rand(dim,dim)\n",
    "    h = m + m.T.conj()\n",
    "    return h\n",
    "def random_matrix(dim=2):\n",
    "    m = np.random.rand(dim,dim) + 1j*np.random.rand(dim,dim)\n",
    "    return m"
   ],
   "metadata": {
    "collapsed": false,
    "pycharm": {
     "name": "#%%\n"
    }
   }
  },
  {
   "cell_type": "code",
   "execution_count": 292,
   "outputs": [],
   "source": [
    "def make_basis_element(J):\n",
    "    n = len(J)\n",
    "    sigma = 1.\n",
    "    for k in range(n):\n",
    "        sigma = np.kron(sigma, s[J[k]])\n",
    "    return sigma"
   ],
   "metadata": {
    "collapsed": false,
    "pycharm": {
     "name": "#%%\n"
    }
   }
  },
  {
   "cell_type": "code",
   "execution_count": 300,
   "outputs": [],
   "source": [
    "def make_all_indices(n):\n",
    "    base = (0,1,2,3)\n",
    "    J = []\n",
    "    for j in itertools.product(base,repeat=n):\n",
    "        J.append(j)\n",
    "    return J"
   ],
   "metadata": {
    "collapsed": false,
    "pycharm": {
     "name": "#%%\n"
    }
   }
  },
  {
   "cell_type": "code",
   "execution_count": 320,
   "outputs": [],
   "source": [
    "def get_coefficient(j, M):\n",
    "    sigma_j = make_basis_element(j)\n",
    "    cj = np.einsum(\"ij,ji\",sigma_j, M)\n",
    "    return cj"
   ],
   "metadata": {
    "collapsed": false,
    "pycharm": {
     "name": "#%%\n"
    }
   }
  },
  {
   "cell_type": "code",
   "execution_count": 366,
   "outputs": [],
   "source": [
    "def coefficients_to_matrix(c):\n",
    "    n = int(math.log(len(c),4))\n",
    "    dim = 2**n\n",
    "    M = np.zeros((dim,dim),dtype=complex)\n",
    "\n",
    "    for i, c_i in c.items():\n",
    "        sigma = make_basis_element(i)\n",
    "        M += c_i*sigma\n",
    "\n",
    "    M = M/dim\n",
    "    return M\n",
    "\n",
    "def matrix_to_coefficients(M):\n",
    "    dim = M.shape[0]\n",
    "    n = int(math.log(dim,2))\n",
    "    J = make_all_indices(n)\n",
    "    c = {}\n",
    "    for j in J:\n",
    "        c[j] = get_coefficient(j,M)\n",
    "    return c"
   ],
   "metadata": {
    "collapsed": false,
    "pycharm": {
     "name": "#%%\n"
    }
   }
  },
  {
   "cell_type": "code",
   "execution_count": 355,
   "outputs": [],
   "source": [
    "n = 4\n",
    "J = make_all_indices(n)\n",
    "K = make_all_indices(n)\n",
    "\n",
    "for j, k in itertools.product(J,K):\n",
    "    sigma_j = make_basis_element(j)\n",
    "    sigma_k = make_basis_element(k)\n",
    "    trace = np.einsum(\"ij,ji\",sigma_j,sigma_k)\n",
    "    if j==k:\n",
    "        assert np.isclose(trace, 2**n)\n",
    "    else:\n",
    "        assert trace == 0\n"
   ],
   "metadata": {
    "collapsed": false,
    "pycharm": {
     "name": "#%%\n"
    }
   }
  },
  {
   "cell_type": "code",
   "execution_count": 367,
   "outputs": [],
   "source": [
    "n = 7\n",
    "M = random_herm(2**n)\n",
    "M_new = coefficients_to_matrix(matrix_to_coefficients(M))\n",
    "assert np.allclose(M_new,M)"
   ],
   "metadata": {
    "collapsed": false,
    "pycharm": {
     "name": "#%%\n"
    }
   }
  },
  {
   "cell_type": "code",
   "execution_count": 371,
   "outputs": [
    {
     "data": {
      "text/plain": "{(0, 0, 0): (6.8748159271180675+0j),\n (0, 0, 1): (10.059720805231054+0j),\n (0, 0, 2): (-0.032620877176601226+0j),\n (0, 0, 3): (-1.3073557822825697+0j),\n (0, 1, 0): (6.4858893549845265+0j),\n (0, 1, 1): (8.919639352229405-1.1102230246251565e-16j),\n (0, 1, 2): (-0.633910823912985+0j),\n (0, 1, 3): (-0.5016501384944856-2.220446049250313e-16j),\n (0, 2, 0): (-1.5494112119611998+2.220446049250313e-16j),\n (0, 2, 1): (-0.11298250184778236+4.440892098500626e-16j),\n (0, 2, 2): (1.1287095199480972+0j),\n (0, 2, 3): (-4.236862408613096+0j),\n (0, 3, 0): (-1.0276877763049135+0j),\n (0, 3, 1): (2.126272117179325+0j),\n (0, 3, 2): (-1.216233207105447+0j),\n (0, 3, 3): (-1.0187994874030732+0j),\n (1, 0, 0): (8.771045902464909+0j),\n (1, 0, 1): (6.9845404066123+2.220446049250313e-16j),\n (1, 0, 2): (0.7508717619658936+0j),\n (1, 0, 3): (1.494902105788466+0j),\n (1, 1, 0): (4.215370742058774+0j),\n (1, 1, 1): (9.135615344707556+0j),\n (1, 1, 2): (-0.3438457036831317+0j),\n (1, 1, 3): (2.2667136383144313+0j),\n (1, 2, 0): (2.227811555972486+1.1102230246251565e-16j),\n (1, 2, 1): (1.8910587320054362+0j),\n (1, 2, 2): (-1.6704088575766114+0j),\n (1, 2, 3): (-0.03173797376897647+0j),\n (1, 3, 0): (-1.663312519809283+0j),\n (1, 3, 1): (2.173801207755465+0j),\n (1, 3, 2): (-2.7195570724312486+4.440892098500626e-16j),\n (1, 3, 3): (2.9278378112139665+0j),\n (2, 0, 0): (-1.186175379953084-6.661338147750939e-16j),\n (2, 0, 1): (2.2064049452482064+2.220446049250313e-16j),\n (2, 0, 2): (1.2651306641107678+0j),\n (2, 0, 3): (2.2310707027055274-2.220446049250313e-16j),\n (2, 1, 0): (-1.1668959639600003-1.1102230246251565e-16j),\n (2, 1, 1): (0.010606071789485583+2.220446049250313e-16j),\n (2, 1, 2): (2.3351093897224318+0j),\n (2, 1, 3): (-1.9024478025207123+1.1102230246251565e-16j),\n (2, 2, 0): (2.023150401678675+1.1102230246251565e-16j),\n (2, 2, 1): (2.486795665792466+0j),\n (2, 2, 2): (-0.2853937370316877+0j),\n (2, 2, 3): (1.0048258140493345+0j),\n (2, 3, 0): (-1.3627090028478053-2.220446049250313e-16j),\n (2, 3, 1): (-0.5151799082917501+2.220446049250313e-16j),\n (2, 3, 2): (4.638189839580599+0j),\n (2, 3, 3): (0.8236563208990926+0j),\n (3, 0, 0): (1.3643013732503841+0j),\n (3, 0, 1): (-1.3837991008554347+0j),\n (3, 0, 2): (1.4309203361338265+0j),\n (3, 0, 3): (-0.49810010277787864+0j),\n (3, 1, 0): (-1.8316039490179947+0j),\n (3, 1, 1): (-0.2406583791966801-1.1102230246251565e-16j),\n (3, 1, 2): (-0.5036024297807441+0j),\n (3, 1, 3): (-0.09721245476727858-2.220446049250313e-16j),\n (3, 2, 0): (-0.5805018779487285+2.220446049250313e-16j),\n (3, 2, 1): (-3.915870981538453+4.440892098500626e-16j),\n (3, 2, 2): (-0.04352134437816746+0j),\n (3, 2, 3): (-0.0743870457127096+0j),\n (3, 3, 0): (-3.370876506309421+0j),\n (3, 3, 1): (-1.2542525505732383+0j),\n (3, 3, 2): (-2.2831459615996086+0j),\n (3, 3, 3): (-0.5139792880626672+0j)}"
     },
     "execution_count": 371,
     "metadata": {},
     "output_type": "execute_result"
    }
   ],
   "source": [
    "n = 3\n",
    "M = random_herm(2**n)\n",
    "matrix_to_coefficients(M)"
   ],
   "metadata": {
    "collapsed": false,
    "pycharm": {
     "name": "#%%\n"
    }
   }
  },
  {
   "cell_type": "code",
   "execution_count": 331,
   "outputs": [],
   "source": [
    "def matrix_to_bloch(m):\n",
    "    r0 = m[0,0] + m[1,1]\n",
    "    r1 = (m[1,0] + m[0,1])\n",
    "    r2 = (1j*(m[0,1]-m[1,0]))\n",
    "    r3 = (m[0,0] - m[1,1])\n",
    "    r = 1/2*np.array((r0,r1,r2,r3))\n",
    "    return r\n",
    "\n",
    "def bloch_to_matrix(r):\n",
    "    #m = 1/2*np.einsum(\"i,ijk->jk\",r,s)\n",
    "    #m = 1/2*(r[0]*s0+r[1]*s1+r[2]*s2+r[3]*s3)\n",
    "    #normalization = np.sqrt(2*(1+np.linalg.norm(r)**2))\n",
    "    m =     np.array([\n",
    "                    [r[0]+r[3],r[1]-1j*r[2]],\n",
    "                    [r[1]+1j*r[2],r[0]-r[3]]\n",
    "                    ])\n",
    "    return m"
   ],
   "metadata": {
    "collapsed": false,
    "pycharm": {
     "name": "#%%\n"
    }
   }
  },
  {
   "cell_type": "code",
   "execution_count": 207,
   "outputs": [],
   "source": [],
   "metadata": {
    "collapsed": false,
    "pycharm": {
     "name": "#%%\n"
    }
   }
  }
 ],
 "metadata": {
  "kernelspec": {
   "display_name": "Python 3",
   "language": "python",
   "name": "python3"
  },
  "language_info": {
   "codemirror_mode": {
    "name": "ipython",
    "version": 2
   },
   "file_extension": ".py",
   "mimetype": "text/x-python",
   "name": "python",
   "nbconvert_exporter": "python",
   "pygments_lexer": "ipython2",
   "version": "2.7.6"
  }
 },
 "nbformat": 4,
 "nbformat_minor": 0
}